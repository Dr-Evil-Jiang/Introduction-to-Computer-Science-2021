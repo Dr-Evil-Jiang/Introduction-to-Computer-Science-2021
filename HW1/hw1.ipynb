{
 "cells": [
  {
   "cell_type": "markdown",
   "source": [
    "# Homework 1\r\n",
    "### **Author:** H. Jiang **Date:** Sept. 15, 2021"
   ],
   "metadata": {}
  },
  {
   "cell_type": "markdown",
   "source": [
    "### 1. **数据结构研究的是什么?**\r\n",
    "数据结构是一本研究非数值计算的程序设计中计算机的操作对象以及它们之间的关系和操作的学科。"
   ],
   "metadata": {}
  },
  {
   "cell_type": "markdown",
   "source": [
    "### 2.**数据结构分为哪三个部分？**\r\n",
    "1. 数据的逻辑结构; \r\n",
    "2. 数据的存储结构；\r\n",
    "3. 数据的运算与实现；"
   ],
   "metadata": {}
  },
  {
   "cell_type": "markdown",
   "source": [
    "### 3.**存储结构分为哪四种？**\r\n",
    "1. 顺序存储; \r\n",
    "2. 链接存储; \r\n",
    "3. 索引存储; \r\n",
    "4. 散列存储;\r\n"
   ],
   "metadata": {}
  },
  {
   "cell_type": "markdown",
   "source": [
    "### 4.**数据的逻辑结构有哪几种？**\r\n",
    "1. 集合结构; \r\n",
    "2. 线性结构; \r\n",
    "3. 树形结构; \r\n",
    "4. 图状结构；"
   ],
   "metadata": {}
  },
  {
   "cell_type": "markdown",
   "source": [
    "### 5.**数据结构在计算机科学中的作用是什么？**\r\n",
    "从计算机科学的角度出发，数据结构存在的意义在于可以让计算器有效地、高效地去读取数据。"
   ],
   "metadata": {}
  },
  {
   "cell_type": "markdown",
   "source": [
    "### 6.**什么是ADT，其基本结构如何?**\r\n",
    "抽象数据类型，是指一个数学模型以及定义在次数学模型上的一组操作。"
   ],
   "metadata": {}
  },
  {
   "cell_type": "raw",
   "source": [
    "ADT 抽象数据类型名 {\r\n",
    "    数据对象：<数据对象的定义>\r\n",
    "    数据关系：<数据关系的定义>\r\n",
    "    基本操作：<基本操作的定义>\r\n",
    "} ADT 抽象数据类型名"
   ],
   "metadata": {}
  },
  {
   "cell_type": "markdown",
   "source": [
    "### 7.**冒泡排序和快速**\r\n",
    "冒泡排序：$\\mathcal{O}(n^2)$\r\n",
    "快速排序：$\\mathcal{O}(n\\log(n))$"
   ],
   "metadata": {}
  }
 ],
 "metadata": {
  "orig_nbformat": 4,
  "language_info": {
   "name": "python"
  }
 },
 "nbformat": 4,
 "nbformat_minor": 2
}